{
 "cells": [
  {
   "cell_type": "code",
   "execution_count": 17,
   "metadata": {},
   "outputs": [],
   "source": [
    "#import dependencies\n",
    "import pandas as pd\n",
    "from pathlib import Path\n",
    "from sklearn import linear_model"
   ]
  },
  {
   "cell_type": "code",
   "execution_count": 18,
   "metadata": {},
   "outputs": [
    {
     "data": {
      "text/html": [
       "<div>\n",
       "<style scoped>\n",
       "    .dataframe tbody tr th:only-of-type {\n",
       "        vertical-align: middle;\n",
       "    }\n",
       "\n",
       "    .dataframe tbody tr th {\n",
       "        vertical-align: top;\n",
       "    }\n",
       "\n",
       "    .dataframe thead th {\n",
       "        text-align: right;\n",
       "    }\n",
       "</style>\n",
       "<table border=\"1\" class=\"dataframe\">\n",
       "  <thead>\n",
       "    <tr style=\"text-align: right;\">\n",
       "      <th></th>\n",
       "      <th>State_Year</th>\n",
       "      <th>Year</th>\n",
       "      <th>State</th>\n",
       "      <th>TOTAL_REVENUE</th>\n",
       "      <th>TOTAL_EXPENDITURE</th>\n",
       "      <th>GRADES_9_12_G</th>\n",
       "      <th>GRADES_ALL_G</th>\n",
       "      <th>Count</th>\n",
       "    </tr>\n",
       "  </thead>\n",
       "  <tbody>\n",
       "    <tr>\n",
       "      <th>0</th>\n",
       "      <td>2007_AK</td>\n",
       "      <td>2007</td>\n",
       "      <td>AK</td>\n",
       "      <td>1800616.0</td>\n",
       "      <td>1938755.0</td>\n",
       "      <td>42049.0</td>\n",
       "      <td>131029.0</td>\n",
       "      <td>7124</td>\n",
       "    </tr>\n",
       "    <tr>\n",
       "      <th>1</th>\n",
       "      <td>2007_AL</td>\n",
       "      <td>2007</td>\n",
       "      <td>AL</td>\n",
       "      <td>7069040.0</td>\n",
       "      <td>7196459.0</td>\n",
       "      <td>216941.0</td>\n",
       "      <td>742919.0</td>\n",
       "      <td>23794</td>\n",
       "    </tr>\n",
       "    <tr>\n",
       "      <th>2</th>\n",
       "      <td>2007_AR</td>\n",
       "      <td>2007</td>\n",
       "      <td>AR</td>\n",
       "      <td>4415981.0</td>\n",
       "      <td>4779308.0</td>\n",
       "      <td>138921.0</td>\n",
       "      <td>479016.0</td>\n",
       "      <td>17048</td>\n",
       "    </tr>\n",
       "    <tr>\n",
       "      <th>3</th>\n",
       "      <td>2007_AZ</td>\n",
       "      <td>2007</td>\n",
       "      <td>AZ</td>\n",
       "      <td>8724434.0</td>\n",
       "      <td>8709531.0</td>\n",
       "      <td>316376.0</td>\n",
       "      <td>1087447.0</td>\n",
       "      <td>64192</td>\n",
       "    </tr>\n",
       "    <tr>\n",
       "      <th>4</th>\n",
       "      <td>2007_CA</td>\n",
       "      <td>2007</td>\n",
       "      <td>CA</td>\n",
       "      <td>72516936.0</td>\n",
       "      <td>73225422.0</td>\n",
       "      <td>2011865.0</td>\n",
       "      <td>6343471.0</td>\n",
       "      <td>636626</td>\n",
       "    </tr>\n",
       "  </tbody>\n",
       "</table>\n",
       "</div>"
      ],
      "text/plain": [
       "  State_Year  Year State  TOTAL_REVENUE  TOTAL_EXPENDITURE  GRADES_9_12_G  \\\n",
       "0    2007_AK  2007    AK      1800616.0          1938755.0        42049.0   \n",
       "1    2007_AL  2007    AL      7069040.0          7196459.0       216941.0   \n",
       "2    2007_AR  2007    AR      4415981.0          4779308.0       138921.0   \n",
       "3    2007_AZ  2007    AZ      8724434.0          8709531.0       316376.0   \n",
       "4    2007_CA  2007    CA     72516936.0         73225422.0      2011865.0   \n",
       "\n",
       "   GRADES_ALL_G   Count  \n",
       "0      131029.0    7124  \n",
       "1      742919.0   23794  \n",
       "2      479016.0   17048  \n",
       "3     1087447.0   64192  \n",
       "4     6343471.0  636626  "
      ]
     },
     "execution_count": 18,
     "metadata": {},
     "output_type": "execute_result"
    }
   ],
   "source": [
    "#read in preprocessed data\n",
    "df = pd.read_csv(Path('Resources/homeless_edu.csv'))\n",
    "df.head()"
   ]
  },
  {
   "cell_type": "code",
   "execution_count": 19,
   "metadata": {},
   "outputs": [
    {
     "data": {
      "text/plain": [
       "State_Year            object\n",
       "Year                   int64\n",
       "State                 object\n",
       "TOTAL_REVENUE        float64\n",
       "TOTAL_EXPENDITURE    float64\n",
       "GRADES_9_12_G        float64\n",
       "GRADES_ALL_G         float64\n",
       "Count                  int64\n",
       "dtype: object"
      ]
     },
     "execution_count": 19,
     "metadata": {},
     "output_type": "execute_result"
    }
   ],
   "source": [
    "#get independent and dependent features\n",
    "df.dtypes"
   ]
  },
  {
   "cell_type": "code",
   "execution_count": null,
   "metadata": {},
   "outputs": [],
   "source": []
  }
 ],
 "metadata": {
  "kernelspec": {
   "display_name": "mlenv",
   "language": "python",
   "name": "mlenv"
  },
  "language_info": {
   "codemirror_mode": {
    "name": "ipython",
    "version": 3
   },
   "file_extension": ".py",
   "mimetype": "text/x-python",
   "name": "python",
   "nbconvert_exporter": "python",
   "pygments_lexer": "ipython3",
   "version": "3.7.9"
  }
 },
 "nbformat": 4,
 "nbformat_minor": 4
}
