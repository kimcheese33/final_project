{
 "cells": [
  {
   "cell_type": "code",
   "execution_count": 1,
   "metadata": {},
   "outputs": [],
   "source": [
    "#import dependencies\n",
    "import pandas as pd\n",
    "import numpy as np\n",
    "from pathlib import Path\n",
    "from sklearn import linear_model\n",
    "from sklearn.preprocessing import StandardScaler\n",
    "from sklearn.model_selection import train_test_split\n",
    "import matplotlib.pyplot as plt\n",
    "from sklearn import metrics\n",
    "from sklearn.metrics import accuracy_score\n",
    "import seaborn as sns\n",
    "#import psycopg2"
   ]
  },
  {
   "cell_type": "code",
   "execution_count": 2,
   "metadata": {},
   "outputs": [
    {
     "name": "stdout",
     "output_type": "stream",
     "text": [
      "Requirement already satisfied: neptune-notebooks in /Users/lawrencewatson/opt/anaconda3/envs/mlenv/lib/python3.7/site-packages (0.9.0)\n",
      "Requirement already satisfied: click>=7.0 in /Users/lawrencewatson/opt/anaconda3/envs/mlenv/lib/python3.7/site-packages (from neptune-notebooks) (7.1.2)\n",
      "Requirement already satisfied: notebook>=4.3.0 in /Users/lawrencewatson/opt/anaconda3/envs/mlenv/lib/python3.7/site-packages (from neptune-notebooks) (6.1.4)\n",
      "Requirement already satisfied: neptune-client>=0.9.0 in /Users/lawrencewatson/opt/anaconda3/envs/mlenv/lib/python3.7/site-packages (from neptune-notebooks) (0.9.4)\n",
      "Requirement already satisfied: path.py in /Users/lawrencewatson/opt/anaconda3/envs/mlenv/lib/python3.7/site-packages (from neptune-notebooks) (12.5.0)\n",
      "Requirement already satisfied: future>=0.17.1 in /Users/lawrencewatson/opt/anaconda3/envs/mlenv/lib/python3.7/site-packages (from neptune-notebooks) (0.18.2)\n",
      "Requirement already satisfied: argon2-cffi in /Users/lawrencewatson/opt/anaconda3/envs/mlenv/lib/python3.7/site-packages (from notebook>=4.3.0->neptune-notebooks) (20.1.0)\n",
      "Requirement already satisfied: prometheus-client in /Users/lawrencewatson/opt/anaconda3/envs/mlenv/lib/python3.7/site-packages (from notebook>=4.3.0->neptune-notebooks) (0.8.0)\n",
      "Requirement already satisfied: nbconvert in /Users/lawrencewatson/opt/anaconda3/envs/mlenv/lib/python3.7/site-packages (from notebook>=4.3.0->neptune-notebooks) (6.0.7)\n",
      "Requirement already satisfied: traitlets>=4.2.1 in /Users/lawrencewatson/opt/anaconda3/envs/mlenv/lib/python3.7/site-packages (from notebook>=4.3.0->neptune-notebooks) (5.0.5)\n",
      "Requirement already satisfied: tornado>=5.0 in /Users/lawrencewatson/opt/anaconda3/envs/mlenv/lib/python3.7/site-packages (from notebook>=4.3.0->neptune-notebooks) (6.0.4)\n",
      "Requirement already satisfied: jupyter-core>=4.6.1 in /Users/lawrencewatson/opt/anaconda3/envs/mlenv/lib/python3.7/site-packages (from notebook>=4.3.0->neptune-notebooks) (4.6.3)\n",
      "Requirement already satisfied: Send2Trash in /Users/lawrencewatson/opt/anaconda3/envs/mlenv/lib/python3.7/site-packages (from notebook>=4.3.0->neptune-notebooks) (1.5.0)\n",
      "Requirement already satisfied: ipython-genutils in /Users/lawrencewatson/opt/anaconda3/envs/mlenv/lib/python3.7/site-packages (from notebook>=4.3.0->neptune-notebooks) (0.2.0)\n",
      "Requirement already satisfied: ipykernel in /Users/lawrencewatson/opt/anaconda3/envs/mlenv/lib/python3.7/site-packages (from notebook>=4.3.0->neptune-notebooks) (5.3.4)\n",
      "Requirement already satisfied: jupyter-client>=5.3.4 in /Users/lawrencewatson/opt/anaconda3/envs/mlenv/lib/python3.7/site-packages (from notebook>=4.3.0->neptune-notebooks) (6.1.7)\n",
      "Requirement already satisfied: terminado>=0.8.3 in /Users/lawrencewatson/opt/anaconda3/envs/mlenv/lib/python3.7/site-packages (from notebook>=4.3.0->neptune-notebooks) (0.9.1)\n",
      "Requirement already satisfied: pyzmq>=17 in /Users/lawrencewatson/opt/anaconda3/envs/mlenv/lib/python3.7/site-packages (from notebook>=4.3.0->neptune-notebooks) (19.0.2)\n",
      "Requirement already satisfied: jinja2 in /Users/lawrencewatson/opt/anaconda3/envs/mlenv/lib/python3.7/site-packages (from notebook>=4.3.0->neptune-notebooks) (2.11.2)\n",
      "Requirement already satisfied: nbformat in /Users/lawrencewatson/opt/anaconda3/envs/mlenv/lib/python3.7/site-packages (from notebook>=4.3.0->neptune-notebooks) (5.0.8)\n",
      "Requirement already satisfied: six>=1.12.0 in /Users/lawrencewatson/opt/anaconda3/envs/mlenv/lib/python3.7/site-packages (from neptune-client>=0.9.0->neptune-notebooks) (1.15.0)\n",
      "Requirement already satisfied: oauthlib>=2.1.0 in /Users/lawrencewatson/opt/anaconda3/envs/mlenv/lib/python3.7/site-packages (from neptune-client>=0.9.0->neptune-notebooks) (3.1.0)\n",
      "Requirement already satisfied: pandas in /Users/lawrencewatson/opt/anaconda3/envs/mlenv/lib/python3.7/site-packages (from neptune-client>=0.9.0->neptune-notebooks) (1.1.3)\n",
      "Requirement already satisfied: requests-oauthlib>=1.0.0 in /Users/lawrencewatson/opt/anaconda3/envs/mlenv/lib/python3.7/site-packages (from neptune-client>=0.9.0->neptune-notebooks) (1.3.0)\n",
      "Requirement already satisfied: websocket-client>=0.35.0 in /Users/lawrencewatson/opt/anaconda3/envs/mlenv/lib/python3.7/site-packages (from neptune-client>=0.9.0->neptune-notebooks) (0.58.0)\n",
      "Requirement already satisfied: requests>=2.20.0 in /Users/lawrencewatson/opt/anaconda3/envs/mlenv/lib/python3.7/site-packages (from neptune-client>=0.9.0->neptune-notebooks) (2.24.0)\n",
      "Requirement already satisfied: GitPython>=2.0.8 in /Users/lawrencewatson/opt/anaconda3/envs/mlenv/lib/python3.7/site-packages (from neptune-client>=0.9.0->neptune-notebooks) (3.1.14)\n",
      "Requirement already satisfied: bravado in /Users/lawrencewatson/opt/anaconda3/envs/mlenv/lib/python3.7/site-packages (from neptune-client>=0.9.0->neptune-notebooks) (11.0.3)\n",
      "Requirement already satisfied: Pillow>=1.1.6 in /Users/lawrencewatson/opt/anaconda3/envs/mlenv/lib/python3.7/site-packages (from neptune-client>=0.9.0->neptune-notebooks) (8.0.1)\n",
      "Requirement already satisfied: PyJWT in /Users/lawrencewatson/opt/anaconda3/envs/mlenv/lib/python3.7/site-packages (from neptune-client>=0.9.0->neptune-notebooks) (2.0.1)\n",
      "Requirement already satisfied: urllib3 in /Users/lawrencewatson/opt/anaconda3/envs/mlenv/lib/python3.7/site-packages (from neptune-client>=0.9.0->neptune-notebooks) (1.25.11)\n",
      "Requirement already satisfied: packaging in /Users/lawrencewatson/opt/anaconda3/envs/mlenv/lib/python3.7/site-packages (from neptune-client>=0.9.0->neptune-notebooks) (20.4)\n",
      "Requirement already satisfied: path in /Users/lawrencewatson/opt/anaconda3/envs/mlenv/lib/python3.7/site-packages (from path.py->neptune-notebooks) (15.0.0)\n",
      "Requirement already satisfied: cffi>=1.0.0 in /Users/lawrencewatson/opt/anaconda3/envs/mlenv/lib/python3.7/site-packages (from argon2-cffi->notebook>=4.3.0->neptune-notebooks) (1.14.3)\n",
      "Requirement already satisfied: testpath in /Users/lawrencewatson/opt/anaconda3/envs/mlenv/lib/python3.7/site-packages (from nbconvert->notebook>=4.3.0->neptune-notebooks) (0.4.4)\n",
      "Requirement already satisfied: pygments>=2.4.1 in /Users/lawrencewatson/opt/anaconda3/envs/mlenv/lib/python3.7/site-packages (from nbconvert->notebook>=4.3.0->neptune-notebooks) (2.7.2)\n",
      "Requirement already satisfied: bleach in /Users/lawrencewatson/opt/anaconda3/envs/mlenv/lib/python3.7/site-packages (from nbconvert->notebook>=4.3.0->neptune-notebooks) (3.2.1)\n",
      "Requirement already satisfied: pandocfilters>=1.4.1 in /Users/lawrencewatson/opt/anaconda3/envs/mlenv/lib/python3.7/site-packages (from nbconvert->notebook>=4.3.0->neptune-notebooks) (1.4.3)\n",
      "Requirement already satisfied: nbclient<0.6.0,>=0.5.0 in /Users/lawrencewatson/opt/anaconda3/envs/mlenv/lib/python3.7/site-packages (from nbconvert->notebook>=4.3.0->neptune-notebooks) (0.5.1)\n",
      "Requirement already satisfied: jupyterlab-pygments in /Users/lawrencewatson/opt/anaconda3/envs/mlenv/lib/python3.7/site-packages (from nbconvert->notebook>=4.3.0->neptune-notebooks) (0.1.2)\n",
      "Requirement already satisfied: entrypoints>=0.2.2 in /Users/lawrencewatson/opt/anaconda3/envs/mlenv/lib/python3.7/site-packages (from nbconvert->notebook>=4.3.0->neptune-notebooks) (0.3)\n",
      "Requirement already satisfied: defusedxml in /Users/lawrencewatson/opt/anaconda3/envs/mlenv/lib/python3.7/site-packages (from nbconvert->notebook>=4.3.0->neptune-notebooks) (0.6.0)\n",
      "Requirement already satisfied: mistune<2,>=0.8.1 in /Users/lawrencewatson/opt/anaconda3/envs/mlenv/lib/python3.7/site-packages (from nbconvert->notebook>=4.3.0->neptune-notebooks) (0.8.4)\n",
      "Requirement already satisfied: appnope; platform_system == \"Darwin\" in /Users/lawrencewatson/opt/anaconda3/envs/mlenv/lib/python3.7/site-packages (from ipykernel->notebook>=4.3.0->neptune-notebooks) (0.1.0)\n",
      "Requirement already satisfied: ipython>=5.0.0 in /Users/lawrencewatson/opt/anaconda3/envs/mlenv/lib/python3.7/site-packages (from ipykernel->notebook>=4.3.0->neptune-notebooks) (7.19.0)\n",
      "Requirement already satisfied: python-dateutil>=2.1 in /Users/lawrencewatson/opt/anaconda3/envs/mlenv/lib/python3.7/site-packages (from jupyter-client>=5.3.4->notebook>=4.3.0->neptune-notebooks) (2.8.1)\n",
      "Requirement already satisfied: ptyprocess in /Users/lawrencewatson/opt/anaconda3/envs/mlenv/lib/python3.7/site-packages (from terminado>=0.8.3->notebook>=4.3.0->neptune-notebooks) (0.6.0)\n",
      "Requirement already satisfied: MarkupSafe>=0.23 in /Users/lawrencewatson/opt/anaconda3/envs/mlenv/lib/python3.7/site-packages (from jinja2->notebook>=4.3.0->neptune-notebooks) (1.1.1)\n",
      "Requirement already satisfied: jsonschema!=2.5.0,>=2.4 in /Users/lawrencewatson/opt/anaconda3/envs/mlenv/lib/python3.7/site-packages (from nbformat->notebook>=4.3.0->neptune-notebooks) (3.2.0)\n",
      "Requirement already satisfied: pytz>=2017.2 in /Users/lawrencewatson/opt/anaconda3/envs/mlenv/lib/python3.7/site-packages (from pandas->neptune-client>=0.9.0->neptune-notebooks) (2020.1)\n",
      "Requirement already satisfied: numpy>=1.15.4 in /Users/lawrencewatson/opt/anaconda3/envs/mlenv/lib/python3.7/site-packages (from pandas->neptune-client>=0.9.0->neptune-notebooks) (1.19.2)\n"
     ]
    },
    {
     "name": "stdout",
     "output_type": "stream",
     "text": [
      "Requirement already satisfied: certifi>=2017.4.17 in /Users/lawrencewatson/opt/anaconda3/envs/mlenv/lib/python3.7/site-packages (from requests>=2.20.0->neptune-client>=0.9.0->neptune-notebooks) (2020.12.5)\n",
      "Requirement already satisfied: idna<3,>=2.5 in /Users/lawrencewatson/opt/anaconda3/envs/mlenv/lib/python3.7/site-packages (from requests>=2.20.0->neptune-client>=0.9.0->neptune-notebooks) (2.10)\n",
      "Requirement already satisfied: chardet<4,>=3.0.2 in /Users/lawrencewatson/opt/anaconda3/envs/mlenv/lib/python3.7/site-packages (from requests>=2.20.0->neptune-client>=0.9.0->neptune-notebooks) (3.0.4)\n",
      "Requirement already satisfied: gitdb<5,>=4.0.1 in /Users/lawrencewatson/opt/anaconda3/envs/mlenv/lib/python3.7/site-packages (from GitPython>=2.0.8->neptune-client>=0.9.0->neptune-notebooks) (4.0.7)\n",
      "Requirement already satisfied: bravado-core>=5.16.1 in /Users/lawrencewatson/opt/anaconda3/envs/mlenv/lib/python3.7/site-packages (from bravado->neptune-client>=0.9.0->neptune-notebooks) (5.17.0)\n",
      "Requirement already satisfied: monotonic in /Users/lawrencewatson/opt/anaconda3/envs/mlenv/lib/python3.7/site-packages (from bravado->neptune-client>=0.9.0->neptune-notebooks) (1.6)\n",
      "Requirement already satisfied: pyyaml in /Users/lawrencewatson/opt/anaconda3/envs/mlenv/lib/python3.7/site-packages (from bravado->neptune-client>=0.9.0->neptune-notebooks) (5.3.1)\n",
      "Requirement already satisfied: typing-extensions in /Users/lawrencewatson/opt/anaconda3/envs/mlenv/lib/python3.7/site-packages (from bravado->neptune-client>=0.9.0->neptune-notebooks) (3.7.4.3)\n",
      "Requirement already satisfied: simplejson in /Users/lawrencewatson/opt/anaconda3/envs/mlenv/lib/python3.7/site-packages (from bravado->neptune-client>=0.9.0->neptune-notebooks) (3.17.2)\n",
      "Requirement already satisfied: msgpack in /Users/lawrencewatson/opt/anaconda3/envs/mlenv/lib/python3.7/site-packages (from bravado->neptune-client>=0.9.0->neptune-notebooks) (1.0.0)\n",
      "Requirement already satisfied: pyparsing>=2.0.2 in /Users/lawrencewatson/opt/anaconda3/envs/mlenv/lib/python3.7/site-packages (from packaging->neptune-client>=0.9.0->neptune-notebooks) (2.4.7)\n",
      "Requirement already satisfied: pycparser in /Users/lawrencewatson/opt/anaconda3/envs/mlenv/lib/python3.7/site-packages (from cffi>=1.0.0->argon2-cffi->notebook>=4.3.0->neptune-notebooks) (2.20)\n",
      "Requirement already satisfied: webencodings in /Users/lawrencewatson/opt/anaconda3/envs/mlenv/lib/python3.7/site-packages (from bleach->nbconvert->notebook>=4.3.0->neptune-notebooks) (0.5.1)\n",
      "Requirement already satisfied: async-generator in /Users/lawrencewatson/opt/anaconda3/envs/mlenv/lib/python3.7/site-packages (from nbclient<0.6.0,>=0.5.0->nbconvert->notebook>=4.3.0->neptune-notebooks) (1.10)\n",
      "Requirement already satisfied: nest-asyncio in /Users/lawrencewatson/opt/anaconda3/envs/mlenv/lib/python3.7/site-packages (from nbclient<0.6.0,>=0.5.0->nbconvert->notebook>=4.3.0->neptune-notebooks) (1.4.2)\n",
      "Requirement already satisfied: pexpect>4.3; sys_platform != \"win32\" in /Users/lawrencewatson/opt/anaconda3/envs/mlenv/lib/python3.7/site-packages (from ipython>=5.0.0->ipykernel->notebook>=4.3.0->neptune-notebooks) (4.8.0)\n",
      "Requirement already satisfied: pickleshare in /Users/lawrencewatson/opt/anaconda3/envs/mlenv/lib/python3.7/site-packages (from ipython>=5.0.0->ipykernel->notebook>=4.3.0->neptune-notebooks) (0.7.5)\n",
      "Requirement already satisfied: decorator in /Users/lawrencewatson/opt/anaconda3/envs/mlenv/lib/python3.7/site-packages (from ipython>=5.0.0->ipykernel->notebook>=4.3.0->neptune-notebooks) (4.4.2)\n",
      "Requirement already satisfied: prompt-toolkit!=3.0.0,!=3.0.1,<3.1.0,>=2.0.0 in /Users/lawrencewatson/opt/anaconda3/envs/mlenv/lib/python3.7/site-packages (from ipython>=5.0.0->ipykernel->notebook>=4.3.0->neptune-notebooks) (3.0.8)\n",
      "Requirement already satisfied: setuptools>=18.5 in /Users/lawrencewatson/opt/anaconda3/envs/mlenv/lib/python3.7/site-packages (from ipython>=5.0.0->ipykernel->notebook>=4.3.0->neptune-notebooks) (50.3.1.post20201107)\n",
      "Requirement already satisfied: backcall in /Users/lawrencewatson/opt/anaconda3/envs/mlenv/lib/python3.7/site-packages (from ipython>=5.0.0->ipykernel->notebook>=4.3.0->neptune-notebooks) (0.2.0)\n",
      "Requirement already satisfied: jedi>=0.10 in /Users/lawrencewatson/opt/anaconda3/envs/mlenv/lib/python3.7/site-packages (from ipython>=5.0.0->ipykernel->notebook>=4.3.0->neptune-notebooks) (0.17.1)\n",
      "Requirement already satisfied: attrs>=17.4.0 in /Users/lawrencewatson/opt/anaconda3/envs/mlenv/lib/python3.7/site-packages (from jsonschema!=2.5.0,>=2.4->nbformat->notebook>=4.3.0->neptune-notebooks) (20.3.0)\n",
      "Requirement already satisfied: pyrsistent>=0.14.0 in /Users/lawrencewatson/opt/anaconda3/envs/mlenv/lib/python3.7/site-packages (from jsonschema!=2.5.0,>=2.4->nbformat->notebook>=4.3.0->neptune-notebooks) (0.17.3)\n",
      "Requirement already satisfied: importlib-metadata; python_version < \"3.8\" in /Users/lawrencewatson/opt/anaconda3/envs/mlenv/lib/python3.7/site-packages (from jsonschema!=2.5.0,>=2.4->nbformat->notebook>=4.3.0->neptune-notebooks) (2.0.0)\n",
      "Requirement already satisfied: smmap<5,>=3.0.1 in /Users/lawrencewatson/opt/anaconda3/envs/mlenv/lib/python3.7/site-packages (from gitdb<5,>=4.0.1->GitPython>=2.0.8->neptune-client>=0.9.0->neptune-notebooks) (4.0.0)\n",
      "Requirement already satisfied: jsonref in /Users/lawrencewatson/opt/anaconda3/envs/mlenv/lib/python3.7/site-packages (from bravado-core>=5.16.1->bravado->neptune-client>=0.9.0->neptune-notebooks) (0.2)\n",
      "Requirement already satisfied: swagger-spec-validator>=2.0.1 in /Users/lawrencewatson/opt/anaconda3/envs/mlenv/lib/python3.7/site-packages (from bravado-core>=5.16.1->bravado->neptune-client>=0.9.0->neptune-notebooks) (2.7.3)\n",
      "Requirement already satisfied: wcwidth in /Users/lawrencewatson/opt/anaconda3/envs/mlenv/lib/python3.7/site-packages (from prompt-toolkit!=3.0.0,!=3.0.1,<3.1.0,>=2.0.0->ipython>=5.0.0->ipykernel->notebook>=4.3.0->neptune-notebooks) (0.2.5)\n",
      "Requirement already satisfied: parso<0.8.0,>=0.7.0 in /Users/lawrencewatson/opt/anaconda3/envs/mlenv/lib/python3.7/site-packages (from jedi>=0.10->ipython>=5.0.0->ipykernel->notebook>=4.3.0->neptune-notebooks) (0.7.0)\n",
      "Requirement already satisfied: zipp>=0.5 in /Users/lawrencewatson/opt/anaconda3/envs/mlenv/lib/python3.7/site-packages (from importlib-metadata; python_version < \"3.8\"->jsonschema!=2.5.0,>=2.4->nbformat->notebook>=4.3.0->neptune-notebooks) (3.4.0)\n",
      "Note: you may need to restart the kernel to use updated packages.\n"
     ]
    }
   ],
   "source": [
    "pip install neptune-notebooks"
   ]
  },
  {
   "cell_type": "code",
   "execution_count": 3,
   "metadata": {},
   "outputs": [
    {
     "name": "stdout",
     "output_type": "stream",
     "text": [
      "Requirement already satisfied: neptune-client in /Users/lawrencewatson/opt/anaconda3/lib/python3.8/site-packages (0.9.4)\n",
      "Requirement already satisfied: click>=7.0 in /Users/lawrencewatson/opt/anaconda3/lib/python3.8/site-packages (from neptune-client) (7.1.2)\n",
      "Requirement already satisfied: requests-oauthlib>=1.0.0 in /Users/lawrencewatson/opt/anaconda3/lib/python3.8/site-packages (from neptune-client) (1.3.0)\n",
      "Requirement already satisfied: packaging in /Users/lawrencewatson/opt/anaconda3/lib/python3.8/site-packages (from neptune-client) (20.9)\n",
      "Requirement already satisfied: urllib3 in /Users/lawrencewatson/opt/anaconda3/lib/python3.8/site-packages (from neptune-client) (1.26.3)\n",
      "Requirement already satisfied: six>=1.12.0 in /Users/lawrencewatson/opt/anaconda3/lib/python3.8/site-packages (from neptune-client) (1.15.0)\n",
      "Requirement already satisfied: PyJWT in /Users/lawrencewatson/opt/anaconda3/lib/python3.8/site-packages (from neptune-client) (2.0.1)\n",
      "Requirement already satisfied: GitPython>=2.0.8 in /Users/lawrencewatson/opt/anaconda3/lib/python3.8/site-packages (from neptune-client) (3.1.14)\n",
      "Requirement already satisfied: oauthlib>=2.1.0 in /Users/lawrencewatson/opt/anaconda3/lib/python3.8/site-packages (from neptune-client) (3.1.0)\n",
      "Requirement already satisfied: websocket-client>=0.35.0 in /Users/lawrencewatson/opt/anaconda3/lib/python3.8/site-packages (from neptune-client) (0.58.0)\n",
      "Requirement already satisfied: pandas in /Users/lawrencewatson/opt/anaconda3/lib/python3.8/site-packages (from neptune-client) (1.2.3)\n",
      "Requirement already satisfied: Pillow>=1.1.6 in /Users/lawrencewatson/opt/anaconda3/lib/python3.8/site-packages (from neptune-client) (8.1.2)\n",
      "Requirement already satisfied: bravado in /Users/lawrencewatson/opt/anaconda3/lib/python3.8/site-packages (from neptune-client) (11.0.3)\n",
      "Requirement already satisfied: future>=0.17.1 in /Users/lawrencewatson/opt/anaconda3/lib/python3.8/site-packages (from neptune-client) (0.18.2)\n",
      "Requirement already satisfied: requests>=2.20.0 in /Users/lawrencewatson/opt/anaconda3/lib/python3.8/site-packages (from neptune-client) (2.25.1)\n",
      "Requirement already satisfied: gitdb<5,>=4.0.1 in /Users/lawrencewatson/opt/anaconda3/lib/python3.8/site-packages (from GitPython>=2.0.8->neptune-client) (4.0.7)\n",
      "Requirement already satisfied: smmap<5,>=3.0.1 in /Users/lawrencewatson/opt/anaconda3/lib/python3.8/site-packages (from gitdb<5,>=4.0.1->GitPython>=2.0.8->neptune-client) (4.0.0)\n",
      "Requirement already satisfied: chardet<5,>=3.0.2 in /Users/lawrencewatson/opt/anaconda3/lib/python3.8/site-packages (from requests>=2.20.0->neptune-client) (4.0.0)\n",
      "Requirement already satisfied: idna<3,>=2.5 in /Users/lawrencewatson/opt/anaconda3/lib/python3.8/site-packages (from requests>=2.20.0->neptune-client) (2.10)\n",
      "Requirement already satisfied: certifi>=2017.4.17 in /Users/lawrencewatson/opt/anaconda3/lib/python3.8/site-packages (from requests>=2.20.0->neptune-client) (2020.12.5)\n",
      "Requirement already satisfied: simplejson in /Users/lawrencewatson/opt/anaconda3/lib/python3.8/site-packages (from bravado->neptune-client) (3.17.2)\n",
      "Requirement already satisfied: typing-extensions in /Users/lawrencewatson/opt/anaconda3/lib/python3.8/site-packages (from bravado->neptune-client) (3.7.4.3)\n",
      "Requirement already satisfied: monotonic in /Users/lawrencewatson/opt/anaconda3/lib/python3.8/site-packages (from bravado->neptune-client) (1.6)\n",
      "Requirement already satisfied: msgpack in /Users/lawrencewatson/opt/anaconda3/lib/python3.8/site-packages (from bravado->neptune-client) (1.0.2)\n",
      "Requirement already satisfied: python-dateutil in /Users/lawrencewatson/opt/anaconda3/lib/python3.8/site-packages (from bravado->neptune-client) (2.8.1)\n",
      "Requirement already satisfied: pyyaml in /Users/lawrencewatson/opt/anaconda3/lib/python3.8/site-packages (from bravado->neptune-client) (5.4.1)\n",
      "Requirement already satisfied: bravado-core>=5.16.1 in /Users/lawrencewatson/opt/anaconda3/lib/python3.8/site-packages (from bravado->neptune-client) (5.17.0)\n",
      "Requirement already satisfied: swagger-spec-validator>=2.0.1 in /Users/lawrencewatson/opt/anaconda3/lib/python3.8/site-packages (from bravado-core>=5.16.1->bravado->neptune-client) (2.7.3)\n",
      "Requirement already satisfied: jsonref in /Users/lawrencewatson/opt/anaconda3/lib/python3.8/site-packages (from bravado-core>=5.16.1->bravado->neptune-client) (0.2)\n",
      "Requirement already satisfied: pytz in /Users/lawrencewatson/opt/anaconda3/lib/python3.8/site-packages (from bravado-core>=5.16.1->bravado->neptune-client) (2021.1)\n",
      "Requirement already satisfied: jsonschema[format]>=2.5.1 in /Users/lawrencewatson/opt/anaconda3/lib/python3.8/site-packages (from bravado-core>=5.16.1->bravado->neptune-client) (3.2.0)\n",
      "Requirement already satisfied: attrs>=17.4.0 in /Users/lawrencewatson/opt/anaconda3/lib/python3.8/site-packages (from jsonschema[format]>=2.5.1->bravado-core>=5.16.1->bravado->neptune-client) (20.3.0)\n",
      "Requirement already satisfied: setuptools in /Users/lawrencewatson/opt/anaconda3/lib/python3.8/site-packages (from jsonschema[format]>=2.5.1->bravado-core>=5.16.1->bravado->neptune-client) (52.0.0.post20210125)\n",
      "Requirement already satisfied: pyrsistent>=0.14.0 in /Users/lawrencewatson/opt/anaconda3/lib/python3.8/site-packages (from jsonschema[format]>=2.5.1->bravado-core>=5.16.1->bravado->neptune-client) (0.17.3)\n",
      "Requirement already satisfied: jsonpointer>1.13 in /Users/lawrencewatson/opt/anaconda3/lib/python3.8/site-packages (from jsonschema[format]>=2.5.1->bravado-core>=5.16.1->bravado->neptune-client) (2.1)\n",
      "Requirement already satisfied: rfc3987 in /Users/lawrencewatson/opt/anaconda3/lib/python3.8/site-packages (from jsonschema[format]>=2.5.1->bravado-core>=5.16.1->bravado->neptune-client) (1.3.8)\n",
      "Requirement already satisfied: strict-rfc3339 in /Users/lawrencewatson/opt/anaconda3/lib/python3.8/site-packages (from jsonschema[format]>=2.5.1->bravado-core>=5.16.1->bravado->neptune-client) (0.7)\n",
      "Requirement already satisfied: webcolors in /Users/lawrencewatson/opt/anaconda3/lib/python3.8/site-packages (from jsonschema[format]>=2.5.1->bravado-core>=5.16.1->bravado->neptune-client) (1.11.1)\n",
      "Requirement already satisfied: pyparsing>=2.0.2 in /Users/lawrencewatson/opt/anaconda3/lib/python3.8/site-packages (from packaging->neptune-client) (2.4.7)\n",
      "Requirement already satisfied: numpy>=1.16.5 in /Users/lawrencewatson/opt/anaconda3/lib/python3.8/site-packages (from pandas->neptune-client) (1.19.2)\n"
     ]
    }
   ],
   "source": [
    "! pip install neptune-client\n"
   ]
  },
  {
   "cell_type": "code",
   "execution_count": 4,
   "metadata": {},
   "outputs": [],
   "source": [
    "# Create Connection\n",
    "#conn = psycopg2.connect(database=\"postgres\", user=\"postgres\", password=\"admin\", host=\"127.0.0.1\", port=\"5432\")\n",
    "#print(\"Database opened successfully\")"
   ]
  },
  {
   "cell_type": "code",
   "execution_count": 8,
   "metadata": {},
   "outputs": [
    {
     "name": "stdout",
     "output_type": "stream",
     "text": [
      "https://app.neptune.ai/lwatson/homeless-edu/e/HOM-2\n"
     ]
    }
   ],
   "source": [
    "import neptune.new as neptune\n",
    "\n",
    "\n",
    "\n",
    "run = neptune.init(project='lwatson/homeless-edu', api_token='eyJhcGlfYWRkcmVzcyI6Imh0dHBzOi8vYXBwLm5lcHR1bmUuYWkiLCJhcGlfdXJsIjoiaHR0cHM6Ly9hcHAubmVwdHVuZS5haSIsImFwaV9rZXkiOiJkNzRkYTc1MC1jZjI5LTRkMzctYTU3OC1hMzUwMjU0NTczZDkifQ==')"
   ]
  },
  {
   "cell_type": "code",
   "execution_count": 9,
   "metadata": {},
   "outputs": [],
   "source": [
    "# Create a cursor object\n",
    "#cur = conn.cursor()"
   ]
  },
  {
   "cell_type": "code",
   "execution_count": 10,
   "metadata": {},
   "outputs": [],
   "source": [
    "# A sample query of all data from the \"homeless_edu\" table in the \"posgres\" database \n",
    "#cur.execute(\"\"\"SELECT * FROM homeless_edu\"\"\")\n",
    "#homeless_edu = cur.fetchall()\n",
    "#print(homeless_edu)"
   ]
  },
  {
   "cell_type": "code",
   "execution_count": 11,
   "metadata": {},
   "outputs": [
    {
     "data": {
      "text/html": [
       "<div>\n",
       "<style scoped>\n",
       "    .dataframe tbody tr th:only-of-type {\n",
       "        vertical-align: middle;\n",
       "    }\n",
       "\n",
       "    .dataframe tbody tr th {\n",
       "        vertical-align: top;\n",
       "    }\n",
       "\n",
       "    .dataframe thead th {\n",
       "        text-align: right;\n",
       "    }\n",
       "</style>\n",
       "<table border=\"1\" class=\"dataframe\">\n",
       "  <thead>\n",
       "    <tr style=\"text-align: right;\">\n",
       "      <th></th>\n",
       "      <th>Year</th>\n",
       "      <th>State</th>\n",
       "      <th>TOTAL_REVENUE</th>\n",
       "      <th>TOTAL_EXPENDITURE</th>\n",
       "      <th>GRADES_PK_G</th>\n",
       "      <th>GRADES_KG_G</th>\n",
       "      <th>GRADES_4_G</th>\n",
       "      <th>GRADES_8_G</th>\n",
       "      <th>GRADES_12_G</th>\n",
       "      <th>GRADES_1_8_G</th>\n",
       "      <th>GRADES_9_12_G</th>\n",
       "      <th>GRADES_ALL_G</th>\n",
       "      <th>Homeless_Count</th>\n",
       "    </tr>\n",
       "  </thead>\n",
       "  <tbody>\n",
       "    <tr>\n",
       "      <th>0</th>\n",
       "      <td>2007</td>\n",
       "      <td>AK</td>\n",
       "      <td>1800616</td>\n",
       "      <td>1938755</td>\n",
       "      <td>1679</td>\n",
       "      <td>9625</td>\n",
       "      <td>9420</td>\n",
       "      <td>9953</td>\n",
       "      <td>10092</td>\n",
       "      <td>77676</td>\n",
       "      <td>42049</td>\n",
       "      <td>131029</td>\n",
       "      <td>7124</td>\n",
       "    </tr>\n",
       "    <tr>\n",
       "      <th>1</th>\n",
       "      <td>2007</td>\n",
       "      <td>AL</td>\n",
       "      <td>7069040</td>\n",
       "      <td>7196459</td>\n",
       "      <td>3592</td>\n",
       "      <td>55972</td>\n",
       "      <td>57795</td>\n",
       "      <td>58792</td>\n",
       "      <td>46200</td>\n",
       "      <td>466414</td>\n",
       "      <td>216941</td>\n",
       "      <td>742919</td>\n",
       "      <td>23794</td>\n",
       "    </tr>\n",
       "    <tr>\n",
       "      <th>2</th>\n",
       "      <td>2007</td>\n",
       "      <td>AR</td>\n",
       "      <td>4415981</td>\n",
       "      <td>4779308</td>\n",
       "      <td>12795</td>\n",
       "      <td>38192</td>\n",
       "      <td>35710</td>\n",
       "      <td>35944</td>\n",
       "      <td>30708</td>\n",
       "      <td>288518</td>\n",
       "      <td>138921</td>\n",
       "      <td>479016</td>\n",
       "      <td>17048</td>\n",
       "    </tr>\n",
       "    <tr>\n",
       "      <th>3</th>\n",
       "      <td>2007</td>\n",
       "      <td>AZ</td>\n",
       "      <td>8724434</td>\n",
       "      <td>8709531</td>\n",
       "      <td>15854</td>\n",
       "      <td>86742</td>\n",
       "      <td>82876</td>\n",
       "      <td>81196</td>\n",
       "      <td>76275</td>\n",
       "      <td>668290</td>\n",
       "      <td>316376</td>\n",
       "      <td>1087447</td>\n",
       "      <td>64192</td>\n",
       "    </tr>\n",
       "    <tr>\n",
       "      <th>4</th>\n",
       "      <td>2007</td>\n",
       "      <td>CA</td>\n",
       "      <td>72516936</td>\n",
       "      <td>73225422</td>\n",
       "      <td>68002</td>\n",
       "      <td>454743</td>\n",
       "      <td>467305</td>\n",
       "      <td>490054</td>\n",
       "      <td>468281</td>\n",
       "      <td>3801685</td>\n",
       "      <td>2011865</td>\n",
       "      <td>6343471</td>\n",
       "      <td>636626</td>\n",
       "    </tr>\n",
       "  </tbody>\n",
       "</table>\n",
       "</div>"
      ],
      "text/plain": [
       "   Year State  TOTAL_REVENUE  TOTAL_EXPENDITURE  GRADES_PK_G  GRADES_KG_G  \\\n",
       "0  2007    AK        1800616            1938755         1679         9625   \n",
       "1  2007    AL        7069040            7196459         3592        55972   \n",
       "2  2007    AR        4415981            4779308        12795        38192   \n",
       "3  2007    AZ        8724434            8709531        15854        86742   \n",
       "4  2007    CA       72516936           73225422        68002       454743   \n",
       "\n",
       "   GRADES_4_G  GRADES_8_G  GRADES_12_G  GRADES_1_8_G  GRADES_9_12_G  \\\n",
       "0        9420        9953        10092         77676          42049   \n",
       "1       57795       58792        46200        466414         216941   \n",
       "2       35710       35944        30708        288518         138921   \n",
       "3       82876       81196        76275        668290         316376   \n",
       "4      467305      490054       468281       3801685        2011865   \n",
       "\n",
       "   GRADES_ALL_G  Homeless_Count  \n",
       "0        131029            7124  \n",
       "1        742919           23794  \n",
       "2        479016           17048  \n",
       "3       1087447           64192  \n",
       "4       6343471          636626  "
      ]
     },
     "execution_count": 11,
     "metadata": {},
     "output_type": "execute_result"
    }
   ],
   "source": [
    "df = pd.read_csv('homeless_edu.csv')\n",
    "df.head()"
   ]
  },
  {
   "cell_type": "code",
   "execution_count": 12,
   "metadata": {},
   "outputs": [
    {
     "data": {
      "text/html": [
       "<div>\n",
       "<style scoped>\n",
       "    .dataframe tbody tr th:only-of-type {\n",
       "        vertical-align: middle;\n",
       "    }\n",
       "\n",
       "    .dataframe tbody tr th {\n",
       "        vertical-align: top;\n",
       "    }\n",
       "\n",
       "    .dataframe thead th {\n",
       "        text-align: right;\n",
       "    }\n",
       "</style>\n",
       "<table border=\"1\" class=\"dataframe\">\n",
       "  <thead>\n",
       "    <tr style=\"text-align: right;\">\n",
       "      <th></th>\n",
       "      <th>Year</th>\n",
       "      <th>TOTAL_REVENUE</th>\n",
       "      <th>TOTAL_EXPENDITURE</th>\n",
       "      <th>GRADES_PK_G</th>\n",
       "      <th>GRADES_KG_G</th>\n",
       "      <th>GRADES_4_G</th>\n",
       "      <th>GRADES_8_G</th>\n",
       "      <th>GRADES_12_G</th>\n",
       "      <th>GRADES_1_8_G</th>\n",
       "      <th>GRADES_9_12_G</th>\n",
       "      <th>GRADES_ALL_G</th>\n",
       "      <th>Homeless_Count</th>\n",
       "    </tr>\n",
       "  </thead>\n",
       "  <tbody>\n",
       "    <tr>\n",
       "      <th>0</th>\n",
       "      <td>2007</td>\n",
       "      <td>1800616</td>\n",
       "      <td>1938755</td>\n",
       "      <td>1679</td>\n",
       "      <td>9625</td>\n",
       "      <td>9420</td>\n",
       "      <td>9953</td>\n",
       "      <td>10092</td>\n",
       "      <td>77676</td>\n",
       "      <td>42049</td>\n",
       "      <td>131029</td>\n",
       "      <td>7124</td>\n",
       "    </tr>\n",
       "    <tr>\n",
       "      <th>1</th>\n",
       "      <td>2007</td>\n",
       "      <td>7069040</td>\n",
       "      <td>7196459</td>\n",
       "      <td>3592</td>\n",
       "      <td>55972</td>\n",
       "      <td>57795</td>\n",
       "      <td>58792</td>\n",
       "      <td>46200</td>\n",
       "      <td>466414</td>\n",
       "      <td>216941</td>\n",
       "      <td>742919</td>\n",
       "      <td>23794</td>\n",
       "    </tr>\n",
       "    <tr>\n",
       "      <th>2</th>\n",
       "      <td>2007</td>\n",
       "      <td>4415981</td>\n",
       "      <td>4779308</td>\n",
       "      <td>12795</td>\n",
       "      <td>38192</td>\n",
       "      <td>35710</td>\n",
       "      <td>35944</td>\n",
       "      <td>30708</td>\n",
       "      <td>288518</td>\n",
       "      <td>138921</td>\n",
       "      <td>479016</td>\n",
       "      <td>17048</td>\n",
       "    </tr>\n",
       "    <tr>\n",
       "      <th>3</th>\n",
       "      <td>2007</td>\n",
       "      <td>8724434</td>\n",
       "      <td>8709531</td>\n",
       "      <td>15854</td>\n",
       "      <td>86742</td>\n",
       "      <td>82876</td>\n",
       "      <td>81196</td>\n",
       "      <td>76275</td>\n",
       "      <td>668290</td>\n",
       "      <td>316376</td>\n",
       "      <td>1087447</td>\n",
       "      <td>64192</td>\n",
       "    </tr>\n",
       "    <tr>\n",
       "      <th>4</th>\n",
       "      <td>2007</td>\n",
       "      <td>72516936</td>\n",
       "      <td>73225422</td>\n",
       "      <td>68002</td>\n",
       "      <td>454743</td>\n",
       "      <td>467305</td>\n",
       "      <td>490054</td>\n",
       "      <td>468281</td>\n",
       "      <td>3801685</td>\n",
       "      <td>2011865</td>\n",
       "      <td>6343471</td>\n",
       "      <td>636626</td>\n",
       "    </tr>\n",
       "  </tbody>\n",
       "</table>\n",
       "</div>"
      ],
      "text/plain": [
       "   Year  TOTAL_REVENUE  TOTAL_EXPENDITURE  GRADES_PK_G  GRADES_KG_G  \\\n",
       "0  2007        1800616            1938755         1679         9625   \n",
       "1  2007        7069040            7196459         3592        55972   \n",
       "2  2007        4415981            4779308        12795        38192   \n",
       "3  2007        8724434            8709531        15854        86742   \n",
       "4  2007       72516936           73225422        68002       454743   \n",
       "\n",
       "   GRADES_4_G  GRADES_8_G  GRADES_12_G  GRADES_1_8_G  GRADES_9_12_G  \\\n",
       "0        9420        9953        10092         77676          42049   \n",
       "1       57795       58792        46200        466414         216941   \n",
       "2       35710       35944        30708        288518         138921   \n",
       "3       82876       81196        76275        668290         316376   \n",
       "4      467305      490054       468281       3801685        2011865   \n",
       "\n",
       "   GRADES_ALL_G  Homeless_Count  \n",
       "0        131029            7124  \n",
       "1        742919           23794  \n",
       "2        479016           17048  \n",
       "3       1087447           64192  \n",
       "4       6343471          636626  "
      ]
     },
     "execution_count": 12,
     "metadata": {},
     "output_type": "execute_result"
    }
   ],
   "source": [
    "# Create DataFrame\n",
    "#df = pd.DataFrame(homeless_edu, columns=[\"State_Year\", 'TOTAL_REVENUE','TOTAL_EXPENDITURE','GRADES_PK_G','GRADES_KG_G','GRADES_4_G','GRADES_8_G','GRADES_12_G','GRADES_1_8_G','GRADES_9_12_G','GRADES_ALL_G', \"Homeless_Count\"])\n",
    "\n",
    "#drop columns\n",
    "df = df.drop(columns=['State'])\n",
    "df.head()"
   ]
  },
  {
   "cell_type": "code",
   "execution_count": 13,
   "metadata": {},
   "outputs": [
    {
     "data": {
      "text/plain": [
       "<seaborn.axisgrid.PairGrid at 0x7fcc3d824e90>"
      ]
     },
     "execution_count": 13,
     "metadata": {},
     "output_type": "execute_result"
    },
    {
     "data": {
      "image/png": "[encoded data removed]",
      "text/plain": [
       "<Figure size 1080x180 with 6 Axes>"
      ]
     },
     "metadata": {
      "needs_background": "light"
     },
     "output_type": "display_data"
    }
   ],
   "source": [
    "#see what variables have relationship with homeless count\n",
    "sns.pairplot(df, x_vars=['Year','TOTAL_REVENUE','TOTAL_EXPENDITURE','GRADES_PK_G','GRADES_KG_G','GRADES_4_G'],y_vars='Homeless_Count',kind='reg')"
   ]
  },
  {
   "cell_type": "code",
   "execution_count": 14,
   "metadata": {},
   "outputs": [
    {
     "data": {
      "text/plain": [
       "<seaborn.axisgrid.PairGrid at 0x7fcbf80f9750>"
      ]
     },
     "execution_count": 14,
     "metadata": {},
     "output_type": "execute_result"
    },
    {
     "data": {
      "image/png": "[encoded data removed]",
      "text/plain": [
       "<Figure size 1080x180 with 6 Axes>"
      ]
     },
     "metadata": {
      "needs_background": "light"
     },
     "output_type": "display_data"
    }
   ],
   "source": [
    "#see what variables have relationship with homeless count\n",
    "sns.pairplot(df, x_vars=['GRADES_4_G','GRADES_8_G','GRADES_12_G','GRADES_1_8_G','GRADES_9_12_G','GRADES_ALL_G'],y_vars='Homeless_Count',kind='reg')"
   ]
  },
  {
   "cell_type": "code",
   "execution_count": 15,
   "metadata": {},
   "outputs": [],
   "source": [
    "#create features \n",
    "X = df.drop(columns=['Homeless_Count'])\n",
    "y = df['Homeless_Count']"
   ]
  },
  {
   "cell_type": "code",
   "execution_count": 16,
   "metadata": {},
   "outputs": [],
   "source": [
    "#split in training and testing\n",
    "X_train, X_test, y_train, y_test = train_test_split(X, y, random_state=0)"
   ]
  },
  {
   "cell_type": "code",
   "execution_count": 17,
   "metadata": {},
   "outputs": [],
   "source": [
    "#create encoder instance\n",
    "scaler = StandardScaler()"
   ]
  },
  {
   "cell_type": "code",
   "execution_count": 18,
   "metadata": {},
   "outputs": [],
   "source": [
    "#fit the scaler\n",
    "X_scaler = scaler.fit(X_train)"
   ]
  },
  {
   "cell_type": "code",
   "execution_count": 19,
   "metadata": {},
   "outputs": [],
   "source": [
    "#transform data\n",
    "X_train_scaled = X_scaler.transform(X_train)\n",
    "X_test_scaled = X_scaler.transform(X_test)"
   ]
  },
  {
   "cell_type": "code",
   "execution_count": 20,
   "metadata": {},
   "outputs": [],
   "source": [
    "#instantiate model\n",
    "model = linear_model.LinearRegression()"
   ]
  },
  {
   "cell_type": "code",
   "execution_count": 21,
   "metadata": {},
   "outputs": [
    {
     "data": {
      "text/plain": [
       "LinearRegression()"
      ]
     },
     "execution_count": 21,
     "metadata": {},
     "output_type": "execute_result"
    }
   ],
   "source": [
    "#fit model\n",
    "model.fit(X_train_scaled,y_train)"
   ]
  },
  {
   "cell_type": "code",
   "execution_count": 22,
   "metadata": {},
   "outputs": [],
   "source": [
    "#generate predictions\n",
    "y_pred = model.predict(X_test_scaled)"
   ]
  },
  {
   "cell_type": "code",
   "execution_count": 23,
   "metadata": {},
   "outputs": [
    {
     "name": "stdout",
     "output_type": "stream",
     "text": [
      "[ 2.22133820e+01  4.32654430e+04 -3.63684888e+02  2.71384500e+04\n",
      "  5.75513028e+05  6.97103270e+04  8.56391916e+03  2.50615043e+03\n",
      "  1.56802960e+05  1.80303996e+05  4.14581581e+04  2.27603701e+04\n",
      "  7.26195026e+04  5.26568569e+04  4.39779943e+04  3.24531273e+04\n",
      "  5.69656470e+04  4.64971854e+03  2.12014162e+04  8.59943570e+03\n",
      "  6.09650332e+05  3.03204794e+04  2.86432747e+05  2.03587613e+04\n",
      "  3.47644761e+04 -7.86033299e+03  8.75118923e+04  2.13398519e+03\n",
      "  1.38061328e+05  1.99512677e+05  3.02331086e+04  1.61801375e+05\n",
      "  1.02727061e+04  5.30082665e+04  8.36725364e+04 -6.56091091e+03\n",
      "  6.02435164e+04  6.80452871e+04  6.60442032e+03  5.65785231e+04\n",
      "  6.92848523e+03  7.70105459e+04  4.36700005e+03  7.55025007e+04\n",
      "  5.82835094e+03  9.10885268e+04  3.46554627e+04  9.69541162e+04\n",
      "  2.44931145e+04  5.40535881e+04  1.79957139e+04  7.06823729e+04\n",
      "  1.82994617e+04  2.76510810e+04  2.18107659e+04  2.19763874e+04\n",
      "  2.93738913e+04  4.01781043e+03  6.96218380e+04  1.97590765e+04\n",
      "  6.78434377e+04  1.54371666e+02  3.49833881e+04  5.72969590e+05\n",
      "  5.26060432e+04  5.37146443e+03  1.05486303e+05  4.27801201e+04\n",
      "  8.18955776e+04  7.48575884e+05  2.49777208e+04  3.73435491e+03\n",
      "  1.88191791e+04  6.55963902e+04  5.47314182e+03  2.74303795e+05\n",
      "  4.18139969e+03  7.24604252e+04  3.12726734e+04  2.51500905e+03\n",
      "  4.57884620e+04  5.03598997e+03  1.97992408e+04 -2.21450650e+03\n",
      "  5.96771344e+03  2.90628433e+05  3.46874490e+03 -6.57086896e+03\n",
      "  3.48481932e+03  1.20823842e+05  3.16295616e+04  7.13921983e+04\n",
      "  2.03557964e+04  1.88429459e+04  2.26291948e+03  2.87066963e+03\n",
      "  4.43979020e+04  5.24853467e+04  5.14036200e+04  3.04663086e+04\n",
      "  1.66162996e+05  1.53048195e+05  1.75871758e+04  4.71005718e+04\n",
      "  4.26133428e+04  1.48772124e+05  1.87835009e+04  1.23242855e+04\n",
      "  1.96588229e+04  3.71882792e+03  2.60322775e+04 -4.78962051e+03\n",
      "  1.22788485e+04 -1.25203220e+04  2.22050018e+04 -4.65981400e+03\n",
      "  2.11303394e+04  1.79717843e+04  3.66522726e+04  1.05792060e+04\n",
      "  6.18791655e+04  3.53242969e+04  5.72991845e+04  7.99154072e+02\n",
      "  1.10810600e+05  4.41316984e+03  1.50992882e+05  4.16895724e+03]\n"
     ]
    }
   ],
   "source": [
    "print(y_pred)"
   ]
  },
  {
   "cell_type": "code",
   "execution_count": 24,
   "metadata": {},
   "outputs": [
    {
     "data": {
      "text/plain": [
       "0.9321643153292166"
      ]
     },
     "execution_count": 24,
     "metadata": {},
     "output_type": "execute_result"
    }
   ],
   "source": [
    "#get r2 value to determine if model is good fit\n",
    "metrics.r2_score(y_test, y_pred)"
   ]
  },
  {
   "cell_type": "code",
   "execution_count": 25,
   "metadata": {},
   "outputs": [
    {
     "name": "stdout",
     "output_type": "stream",
     "text": [
      "20304.478391692246\n"
     ]
    }
   ],
   "source": [
    "#print result of MAE (mean absolute error)\n",
    "print(metrics.mean_absolute_error(y_test,y_pred))"
   ]
  },
  {
   "cell_type": "code",
   "execution_count": 26,
   "metadata": {},
   "outputs": [
    {
     "name": "stdout",
     "output_type": "stream",
     "text": [
      "995095019.3731079\n"
     ]
    },
    {
     "name": "stderr",
     "output_type": "stream",
     "text": [
      "Error occurred during asynchronous operation processing: Invalid point for string series: monitoring/stdout : Text longer than 1000 characters was truncated\n"
     ]
    }
   ],
   "source": [
    "#print result of MSE (mean squared error)\n",
    "print(metrics.mean_squared_error(y_test,y_pred))"
   ]
  },
  {
   "cell_type": "code",
   "execution_count": 27,
   "metadata": {},
   "outputs": [
    {
     "name": "stdout",
     "output_type": "stream",
     "text": [
      "31545.126713537036\n"
     ]
    },
    {
     "name": "stderr",
     "output_type": "stream",
     "text": [
      "Error occurred during asynchronous operation processing: Invalid point for string series: monitoring/stdout : Text longer than 1000 characters was truncated\n"
     ]
    }
   ],
   "source": [
    "#print result of RMSE (root mean squared error)\n",
    "print(np.sqrt(metrics.mean_squared_error(y_test,y_pred)))"
   ]
  },
  {
   "cell_type": "code",
   "execution_count": 28,
   "metadata": {},
   "outputs": [],
   "source": [
    "# Track metadata and hyperparameters of your run\n",
    "run[\"JIRA\"] = \"NPT-952\"\n",
    "run[\"algorithm\"] = \"ConvNet\"\n",
    "\n",
    "params = {\n",
    "    \"batch_size\": 64,\n",
    "    \"dropout\": 0.2,\n",
    "    \"learning_rate\": 0.001,\n",
    "    \"optimizer\": \"Adam\"\n",
    "}\n",
    "run[\"parameters\"] = params\n",
    "\n",
    "\n",
    "# Track the training process by logging your training metrics\n",
    "for epoch in range(100):\n",
    "    run[\"train/accuracy\"].log(epoch * 0.6)\n",
    "    run[\"train/loss\"].log(epoch * 0.4)\n",
    "\n",
    "# Log the final score\n",
    "run[\"f1_score\"] = 0.66"
   ]
  },
  {
   "cell_type": "code",
   "execution_count": null,
   "metadata": {},
   "outputs": [],
   "source": []
  }
 ],
 "metadata": {
  "kernelspec": {
   "display_name": "mlenv",
   "language": "python",
   "name": "mlenv"
  },
  "language_info": {
   "codemirror_mode": {
    "name": "ipython",
    "version": 3
   },
   "file_extension": ".py",
   "mimetype": "text/x-python",
   "name": "python",
   "nbconvert_exporter": "python",
   "pygments_lexer": "ipython3",
   "version": "3.7.9"
  },
  "neptune": {
   "notebookId": "d97456da-bc6d-4459-8c54-e68d4050fced",
   "projectVersion": 2
  }
 },
 "nbformat": 4,
 "nbformat_minor": 4
}
